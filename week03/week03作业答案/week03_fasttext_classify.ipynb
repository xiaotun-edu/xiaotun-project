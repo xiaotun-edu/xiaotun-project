{
 "cells": [
  {
   "cell_type": "code",
   "execution_count": null,
   "id": "93ec950b",
   "metadata": {},
   "outputs": [],
   "source": [
    "# fasttext"
   ]
  },
  {
   "cell_type": "code",
   "execution_count": null,
   "id": "fc7937f1",
   "metadata": {},
   "outputs": [],
   "source": [
    "import pandas as pd\n",
    "# read_csv方法中有3个参数，第1个参数是加载文本文件的路径，第2个关键字参数sep是分隔符，第3个关键字参数header是文本文件的第1行是否为字段名\n",
    "train_df = pd.read_csv('data/text_train.txt', sep='\\t', header=None)\n",
    "train_df.columns = ['分类', '内容']\n",
    "train_df.head() # 打印训练集前5行"
   ]
  },
  {
   "cell_type": "code",
   "execution_count": null,
   "id": "2b1b1f94",
   "metadata": {},
   "outputs": [],
   "source": [
    "# 查看训练集每个分类的名字以及样本数量\n",
    "for name, group in train_df.groupby(train_df.columns[0]):\n",
    "    print(name,len(group))"
   ]
  },
  {
   "cell_type": "code",
   "execution_count": null,
   "id": "18570389",
   "metadata": {},
   "outputs": [],
   "source": [
    "# 加载测试集并查看每个分类的名字以及样本数量\n",
    "test_df = pd.read_csv('data/text_test.txt', sep='\\t', header=None)\n",
    "for name, group in test_df.groupby(test_df.columns[0]):\n",
    "    print(name, len(group))"
   ]
  },
  {
   "cell_type": "code",
   "execution_count": null,
   "id": "dd9812ea",
   "metadata": {},
   "outputs": [],
   "source": [
    "# 文本分类不是任何词都是重要的判断语句，针对一些没有任何代表意义的词（的、了、么、吗）应该去掉，这种词容易对模型进行干扰\n",
    "with open('data/stopwords.txt', encoding='utf8') as file:\n",
    "    line_list = file.readlines()\n",
    "    stopword_list = [k.strip() for k in line_list]\n",
    "    stopword_set = set(stopword_list)\n",
    "    print('停顿词列表，即变量stopword_list中共有%d个元素' %len(stopword_list))\n",
    "    print('停顿词集合，即变量stopword_set中共有%d个元素' %len(stopword_set))"
   ]
  },
  {
   "cell_type": "code",
   "execution_count": null,
   "id": "c3852d5b",
   "metadata": {},
   "outputs": [],
   "source": [
    "def word_cut(content, stopword_set):\n",
    "    cutWords = [k for k in jieba.cut(content, True) if k not in stopword_set]\n",
    "    return \" \".join(cutWords)"
   ]
  },
  {
   "cell_type": "code",
   "execution_count": null,
   "id": "3b2f0883",
   "metadata": {},
   "outputs": [],
   "source": [
    "fasttext_train_df = train_df.copy()\n",
    "fasttext_train_df.shape"
   ]
  },
  {
   "cell_type": "code",
   "execution_count": null,
   "id": "9e1c0748",
   "metadata": {},
   "outputs": [],
   "source": [
    "fasttext_train_df.head()"
   ]
  },
  {
   "cell_type": "code",
   "execution_count": null,
   "id": "9f925f7a",
   "metadata": {},
   "outputs": [],
   "source": [
    "# 训练样本内容分词\n",
    "fasttext_train_df[\"内容\"] = fasttext_train_df[\"内容\"].map(lambda x: word_cut(x, stopword_set))\n",
    "fasttext_train_df.head()"
   ]
  },
  {
   "cell_type": "code",
   "execution_count": null,
   "id": "e085da61",
   "metadata": {},
   "outputs": [],
   "source": [
    "# label映射\n",
    "label_map ={}\n",
    "label_map_idx = {}\n",
    "i = 0\n",
    "for name, group in fasttext_train_df.groupby(test_df.columns[0]):\n",
    "    i += 1\n",
    "    print(name, len(group))\n",
    "    label_map[name] = \"__label__\" + str(i)\n",
    "    label_map_idx[\"__label__\" + str(i)] = name\n",
    "label_map"
   ]
  },
  {
   "cell_type": "code",
   "execution_count": null,
   "id": "df7ee09e",
   "metadata": {},
   "outputs": [],
   "source": [
    "label_map_idx"
   ]
  },
  {
   "cell_type": "code",
   "execution_count": null,
   "id": "a5187e4c",
   "metadata": {},
   "outputs": [],
   "source": [
    "# 标签映射\n",
    "# label_map = test_df.groupby(test_df.columns[0])"
   ]
  },
  {
   "cell_type": "code",
   "execution_count": null,
   "id": "90b5097e",
   "metadata": {},
   "outputs": [],
   "source": [
    "fasttext_train_df[\"分类\"] = fasttext_train_df[\"分类\"].map(lambda x: label_map[x])"
   ]
  },
  {
   "cell_type": "code",
   "execution_count": null,
   "id": "b396da5c",
   "metadata": {},
   "outputs": [],
   "source": [
    "fasttext_train_df.head(5)"
   ]
  },
  {
   "cell_type": "code",
   "execution_count": null,
   "id": "9864f052",
   "metadata": {},
   "outputs": [],
   "source": [
    "# 测试集\n",
    "fasttext_test_df = test_df.copy()\n",
    "fasttext_test_df.shape"
   ]
  },
  {
   "cell_type": "code",
   "execution_count": null,
   "id": "c5b1cba0",
   "metadata": {},
   "outputs": [],
   "source": [
    "# 测试集，内容分词\n",
    "fasttext_test_df[\"内容\"] = fasttext_test_df[\"内容\"].map(lambda x: word_cut(x, stopword_set))\n",
    "fasttext_test_df.head()"
   ]
  },
  {
   "cell_type": "code",
   "execution_count": null,
   "id": "0564a298",
   "metadata": {},
   "outputs": [],
   "source": [
    "# 测试集，标签映射\n",
    "fasttext_test_df[\"分类\"] = fasttext_test_df[\"分类\"].map(lambda x: label_map[x])"
   ]
  },
  {
   "cell_type": "code",
   "execution_count": null,
   "id": "0ae4f3aa",
   "metadata": {},
   "outputs": [],
   "source": [
    "fasttext_test_df.head(5)"
   ]
  },
  {
   "cell_type": "code",
   "execution_count": null,
   "id": "b034d0bb",
   "metadata": {},
   "outputs": [],
   "source": [
    "# dataframe互换两列的位置\n",
    "test_mid = fasttext_test_df['内容']\n",
    "fasttext_test_df.drop(labels=['内容'], axis=1,inplace = True)\n",
    "fasttext_test_df.insert(0, '内容', test_mid)\n",
    "fasttext_test_df.head(5)"
   ]
  },
  {
   "cell_type": "code",
   "execution_count": null,
   "id": "b943fbb5",
   "metadata": {},
   "outputs": [],
   "source": [
    "# dataframe互换两列的位置\n",
    "train_mid = fasttext_train_df['内容']\n",
    "fasttext_train_df.drop(labels=['内容'], axis=1,inplace = True)\n",
    "fasttext_train_df.insert(0, '内容', train_mid)\n",
    "fasttext_train_df.head(5)"
   ]
  },
  {
   "cell_type": "code",
   "execution_count": null,
   "id": "27544a28",
   "metadata": {},
   "outputs": [],
   "source": [
    "fasttext_test_df.to_csv(\"data/fasttext_test_df.txt\", sep=\"\\t\", index=False, header=None)"
   ]
  },
  {
   "cell_type": "code",
   "execution_count": null,
   "id": "b761744b",
   "metadata": {},
   "outputs": [],
   "source": [
    "fasttext_train_df.to_csv(\"data/fasttext_train_df.txt\", sep=\"\\t\", index=False, header=None)"
   ]
  },
  {
   "cell_type": "code",
   "execution_count": null,
   "id": "8f78c92f",
   "metadata": {},
   "outputs": [],
   "source": [
    "import fasttext\n",
    "\"\"\"\n",
    "  训练一个监督模型, 返回一个模型对象\n",
    "\n",
    "  @param input:           训练数据文件路径\n",
    "  @param lr:              学习率\n",
    "  @param dim:             向量维度\n",
    "  @param ws:              cbow模型时使用\n",
    "  @param epoch:           次数\n",
    "  @param minCount:        词频阈值, 小于该值在初始化时会过滤掉\n",
    "  @param minCountLabel:   类别阈值，类别小于该值初始化时会过滤掉\n",
    "  @param minn:            构造subword时最小char个数\n",
    "  @param maxn:            构造subword时最大char个数\n",
    "  @param neg:             负采样\n",
    "  @param wordNgrams:      n-gram个数\n",
    "  @param loss:            损失函数类型, softmax, ns: 负采样, hs: 分层softmax\n",
    "  @param bucket:          词扩充大小, [A, B]: A语料中包含的词向量, B不在语料中的词向量\n",
    "  @param thread:          线程个数, 每个线程处理输入数据的一段, 0号线程负责loss输出\n",
    "  @param lrUpdateRate:    学习率更新\n",
    "  @param t:               负采样阈值\n",
    "  @param label:           类别前缀\n",
    "  @param pretrainedVectors: 预训练的词向量文件路径, 如果word出现在文件夹中初始化不再随机\n",
    "  @return model object\n",
    "\"\"\"\n",
    "classifier = fasttext.train_supervised(input='data/fasttext_train_df.txt', dim=100, epoch=10,\n",
    "                                         lr=0.1, wordNgrams=2, loss='softmax', label=\"__label__\")"
   ]
  },
  {
   "cell_type": "code",
   "execution_count": null,
   "id": "792606b1",
   "metadata": {},
   "outputs": [],
   "source": [
    "result = classifier.test('data/fasttext_test_df.txt')\n",
    "print(result)"
   ]
  },
  {
   "cell_type": "code",
   "execution_count": null,
   "id": "60b06870",
   "metadata": {},
   "outputs": [],
   "source": [
    "classifier.predict([\"奥运 明星 明星写真 写真 写真集 集锦 曝光 　 展现 健康 时尚 图 来源 人民\"])"
   ]
  },
  {
   "cell_type": "code",
   "execution_count": null,
   "id": "77cf7129",
   "metadata": {},
   "outputs": [],
   "source": []
  }
 ],
 "metadata": {
  "kernelspec": {
   "display_name": "Python [conda env:py365] *",
   "language": "python",
   "name": "conda-env-py365-py"
  },
  "language_info": {
   "codemirror_mode": {
    "name": "ipython",
    "version": 3
   },
   "file_extension": ".py",
   "mimetype": "text/x-python",
   "name": "python",
   "nbconvert_exporter": "python",
   "pygments_lexer": "ipython3",
   "version": "3.6.5"
  }
 },
 "nbformat": 4,
 "nbformat_minor": 5
}

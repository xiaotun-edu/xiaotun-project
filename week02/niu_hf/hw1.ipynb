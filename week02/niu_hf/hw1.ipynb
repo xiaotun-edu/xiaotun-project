{
 "cells": [
  {
   "cell_type": "markdown",
   "source": [
    "#  HW1\n",
    "\n",
    "## get the sqrt\n",
    "**9 --> 3, 4 --> 2**"
   ],
   "metadata": {
    "collapsed": false,
    "pycharm": {
     "name": "#%% md\n"
    }
   }
  },
  {
   "cell_type": "code",
   "execution_count": 1,
   "outputs": [],
   "source": [
    "# method 1\n",
    "def mySqrt(num: int) -> int:\n",
    "    left, right = 0, num//2+1\n",
    "\n",
    "    while left < right:\n",
    "        mid = (left+right+1)//2\n",
    "        if mid * mid > num:\n",
    "            right = mid -1\n",
    "        else:\n",
    "            left = mid\n",
    "\n",
    "    return left"
   ],
   "metadata": {
    "collapsed": false,
    "pycharm": {
     "name": "#%%\n"
    }
   }
  },
  {
   "cell_type": "markdown",
   "source": [
    "**Deep learning:**\n",
    "* define the func of x: y = lambda x: x*x\n",
    "* define the loss func:  loss = lambda x: (y(x) - n) ** 2\n",
    "* difference of the loss func: dloss_dx = lambda x: 2 * (y(x) - n) * 2 * x\n",
    "* gradient boost: deltax(dx) = lr(learning_step) * loss_func = lambda x, lr: -lr * dloss_dx(x)\n",
    "* init x = 1"
   ],
   "metadata": {
    "collapsed": false,
    "pycharm": {
     "name": "#%% md\n"
    }
   }
  },
  {
   "cell_type": "code",
   "execution_count": 6,
   "outputs": [
    {
     "name": "stdout",
     "output_type": "stream",
     "text": [
      "epoch 0 -- x is 1\n",
      "epoch 2 -- x is 1.9435178114559999\n",
      "epoch 4 -- x is 3.690188335719351\n",
      "epoch 6 -- x is 6.461712938201321\n",
      "epoch 8 -- x is 9.131164412599313\n",
      "epoch 10 -- x is 9.939505745965231\n",
      "epoch 12 -- x is 9.997473724011192\n",
      "epoch 14 -- x is 9.999898765077308\n",
      "epoch 16 -- x is 9.99999595030793\n",
      "epoch 18 -- x is 9.999999838011846\n",
      "epoch 20 -- x is 9.999999993520472\n"
     ]
    },
    {
     "data": {
      "text/plain": "9.999999999740819"
     },
     "execution_count": 6,
     "metadata": {},
     "output_type": "execute_result"
    }
   ],
   "source": [
    "def normal_sqrt(n:float, lr=0.001, epoches=200) -> float:\n",
    "    y = lambda x: x*x\n",
    "    loss = lambda x: (y(x) - n) * x\n",
    "\n",
    "    dloss_dx = lambda x: 2 * (y(x) - n) * 2 * x\n",
    "    deltax = lambda x, lr: -lr * dloss_dx(x)\n",
    "    x = 1\n",
    "    for _ in range(epoches):\n",
    "        if _ % 2 == 0:\n",
    "            print(\"epoch {} -- x is {}\".format(_, x))\n",
    "        x += deltax(x, lr)\n",
    "        if -0.0000001 <= loss(x) <= 0.0000001:\n",
    "            break\n",
    "    return x\n",
    "\n",
    "normal_sqrt(100)"
   ],
   "metadata": {
    "collapsed": false,
    "pycharm": {
     "name": "#%%\n"
    }
   }
  },
  {
   "cell_type": "markdown",
   "source": [
    "**TF Steps:**\n",
    "* defind var x: adopted v as common, but it depends on individual\n",
    "* defind params: input\n",
    "* define loss func\n",
    "* define lr\n",
    "* define optimizer: SGD, Adagrad, Adam, AdaW\n",
    "* get the result"
   ],
   "metadata": {
    "collapsed": false,
    "pycharm": {
     "name": "#%% md\n"
    }
   }
  },
  {
   "cell_type": "code",
   "execution_count": 7,
   "outputs": [
    {
     "name": "stderr",
     "output_type": "stream",
     "text": [
      "2022-10-22 03:05:06.435339: I tensorflow/core/platform/cpu_feature_guard.cc:193] This TensorFlow binary is optimized with oneAPI Deep Neural Network Library (oneDNN) to use the following CPU instructions in performance-critical operations:  AVX2 FMA\n",
      "To enable them in other operations, rebuild TensorFlow with the appropriate compiler flags.\n",
      "2022-10-22 03:05:06.582807: W tensorflow/stream_executor/platform/default/dso_loader.cc:64] Could not load dynamic library 'libcudart.so.11.0'; dlerror: libcudart.so.11.0: cannot open shared object file: No such file or directory\n",
      "2022-10-22 03:05:06.582835: I tensorflow/stream_executor/cuda/cudart_stub.cc:29] Ignore above cudart dlerror if you do not have a GPU set up on your machine.\n",
      "2022-10-22 03:05:06.625029: E tensorflow/stream_executor/cuda/cuda_blas.cc:2981] Unable to register cuBLAS factory: Attempting to register factory for plugin cuBLAS when one has already been registered\n",
      "2022-10-22 03:05:07.514097: W tensorflow/stream_executor/platform/default/dso_loader.cc:64] Could not load dynamic library 'libnvinfer.so.7'; dlerror: libnvinfer.so.7: cannot open shared object file: No such file or directory\n",
      "2022-10-22 03:05:07.514207: W tensorflow/stream_executor/platform/default/dso_loader.cc:64] Could not load dynamic library 'libnvinfer_plugin.so.7'; dlerror: libnvinfer_plugin.so.7: cannot open shared object file: No such file or directory\n",
      "2022-10-22 03:05:07.514218: W tensorflow/compiler/tf2tensorrt/utils/py_utils.cc:38] TF-TRT Warning: Cannot dlopen some TensorRT libraries. If you would like to use Nvidia GPU with TensorRT, please make sure the missing libraries mentioned above are installed properly.\n"
     ]
    },
    {
     "ename": "AttributeError",
     "evalue": "module 'tensorflow' has no attribute 'get_variable'",
     "output_type": "error",
     "traceback": [
      "\u001B[0;31m---------------------------------------------------------------------------\u001B[0m",
      "\u001B[0;31mAttributeError\u001B[0m                            Traceback (most recent call last)",
      "\u001B[0;32m/tmp/ipykernel_24855/3450921826.py\u001B[0m in \u001B[0;36m<module>\u001B[0;34m\u001B[0m\n\u001B[1;32m      2\u001B[0m \u001B[0;34m\u001B[0m\u001B[0m\n\u001B[1;32m      3\u001B[0m \u001B[0;31m# defind the var, the v is adopted randomly by tf\u001B[0m\u001B[0;34m\u001B[0m\u001B[0;34m\u001B[0m\u001B[0;34m\u001B[0m\u001B[0m\n\u001B[0;32m----> 4\u001B[0;31m \u001B[0mv\u001B[0m \u001B[0;34m=\u001B[0m \u001B[0mtf\u001B[0m\u001B[0;34m.\u001B[0m\u001B[0mget_variable\u001B[0m\u001B[0;34m(\u001B[0m\u001B[0;34m\"v\"\u001B[0m\u001B[0;34m,\u001B[0m \u001B[0;34m(\u001B[0m\u001B[0;34m)\u001B[0m\u001B[0;34m,\u001B[0m \u001B[0mdtype\u001B[0m\u001B[0;34m=\u001B[0m\u001B[0mtf\u001B[0m\u001B[0;34m.\u001B[0m\u001B[0mfloat32\u001B[0m\u001B[0;34m)\u001B[0m\u001B[0;34m\u001B[0m\u001B[0;34m\u001B[0m\u001B[0m\n\u001B[0m\u001B[1;32m      5\u001B[0m \u001B[0;34m\u001B[0m\u001B[0m\n\u001B[1;32m      6\u001B[0m \u001B[0;31m# input\u001B[0m\u001B[0;34m\u001B[0m\u001B[0;34m\u001B[0m\u001B[0;34m\u001B[0m\u001B[0m\n",
      "\u001B[0;31mAttributeError\u001B[0m: module 'tensorflow' has no attribute 'get_variable'"
     ]
    }
   ],
   "source": [
    "import tensorflow as tf\n",
    "\n",
    "# defind the var, the v is adopted randomly by tf\n",
    "v = tf.get_variable(\"v\", (), dtype=tf.float32)\n",
    "\n",
    "# input\n",
    "n = tf.placeholder(tf.float32, (), \"n\")\n",
    "\n",
    "# define the loss func\n",
    "loss = tf.square(tf.square(v) - n)\n",
    "\n",
    "# define the learning method\n",
    "opt = tf.train.AdagradOptimizer(0.01)\n",
    "\n",
    "train = opt.minmize(loss)\n",
    "\n",
    "# init\n",
    "init = tf.global_variables_initializer()\n",
    "with tf.Session() as sess:\n",
    "    sess.run(init)\n",
    "    for step in range(0, 200):\n",
    "        sess.run(train, {n:4})\n",
    "        if step % 5 ==0:\n",
    "            print(sess.run(v))"
   ],
   "metadata": {
    "collapsed": false,
    "pycharm": {
     "name": "#%%\n"
    }
   }
  },
  {
   "cell_type": "code",
   "execution_count": null,
   "outputs": [],
   "source": [],
   "metadata": {
    "collapsed": false,
    "pycharm": {
     "name": "#%%\n"
    }
   }
  }
 ],
 "metadata": {
  "kernelspec": {
   "display_name": "Python 3",
   "language": "python",
   "name": "python3"
  },
  "language_info": {
   "codemirror_mode": {
    "name": "ipython",
    "version": 2
   },
   "file_extension": ".py",
   "mimetype": "text/x-python",
   "name": "python",
   "nbconvert_exporter": "python",
   "pygments_lexer": "ipython2",
   "version": "2.7.6"
  }
 },
 "nbformat": 4,
 "nbformat_minor": 0
}